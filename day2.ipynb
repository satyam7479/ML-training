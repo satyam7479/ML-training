{
 "cells": [
  {
   "cell_type": "code",
   "execution_count": 3,
   "metadata": {},
   "outputs": [
    {
     "name": "stdout",
     "output_type": "stream",
     "text": [
      "Hello world\n"
     ]
    }
   ],
   "source": [
    "print(\"Hello world\")"
   ]
  },
  {
   "cell_type": "code",
   "execution_count": 32,
   "metadata": {},
   "outputs": [
    {
     "name": "stdout",
     "output_type": "stream",
     "text": [
      "9\n"
     ]
    }
   ],
   "source": [
    "a=int(input(\"Enter value of a: \"))\n",
    "b=int(input(\"Enter value of b: \"))\n",
    "print(a+b)"
   ]
  },
  {
   "cell_type": "code",
   "execution_count": 5,
   "metadata": {},
   "outputs": [
    {
     "name": "stdout",
     "output_type": "stream",
     "text": [
      "satyam kumar\n"
     ]
    }
   ],
   "source": [
    "fname=input(\"Enter first name: \")\n",
    "lname=input(\"Enter last name: \")\n",
    "print(fname+\" \"+lname)"
   ]
  },
  {
   "cell_type": "code",
   "execution_count": 8,
   "metadata": {},
   "outputs": [
    {
     "name": "stdout",
     "output_type": "stream",
     "text": [
      "Satyam Kumar\n"
     ]
    }
   ],
   "source": [
    "fname=input(\"Enter first name: \")\n",
    "lname=input(\"Enter last name: \")\n",
    "print(fname.capitalize()+\" \"+lname.capitalize())"
   ]
  },
  {
   "cell_type": "markdown",
   "metadata": {},
   "source": [
    "seperation\n"
   ]
  },
  {
   "cell_type": "code",
   "execution_count": 11,
   "metadata": {},
   "outputs": [
    {
     "data": {
      "text/plain": [
       "['ABC', 'DEF', 'GHI']"
      ]
     },
     "execution_count": 11,
     "metadata": {},
     "output_type": "execute_result"
    }
   ],
   "source": [
    "str1=\"ABC-DEF-GHI\"\n",
    "str1.split(\"-\")"
   ]
  },
  {
   "cell_type": "markdown",
   "metadata": {},
   "source": [
    "Counting"
   ]
  },
  {
   "cell_type": "code",
   "execution_count": 16,
   "metadata": {},
   "outputs": [
    {
     "name": "stdout",
     "output_type": "stream",
     "text": [
      "7\n"
     ]
    }
   ],
   "source": [
    "name=\"gqwhdvuigfbuwhoieyubhjs\"\n",
    "vow=\"aeiouAEIOU\"\n",
    "count=0\n",
    "for i in name:\n",
    "    if i in vow:\n",
    "        count+=1\n",
    "print(count)"
   ]
  },
  {
   "cell_type": "code",
   "execution_count": 25,
   "metadata": {},
   "outputs": [
    {
     "name": "stdout",
     "output_type": "stream",
     "text": [
      "acbd\n"
     ]
    }
   ],
   "source": [
    "str2=\"acbd\"\n",
    "newstr=\"\"\n",
    "for i in str2:\n",
    "    if i==\"C\":\n",
    "     newstr +=\"X\"\n",
    "    else: newstr += i\n",
    "print(newstr)"
   ]
  },
  {
   "cell_type": "markdown",
   "metadata": {},
   "source": [
    "Write a program to replace all the vowels in the following string"
   ]
  },
  {
   "cell_type": "code",
   "execution_count": 27,
   "metadata": {},
   "outputs": [
    {
     "name": "stdout",
     "output_type": "stream",
     "text": [
      "skhYgskHHls\n"
     ]
    }
   ],
   "source": [
    "word=\"skhYgaeUUskHHlsO\"\n",
    "vow=\"aeiouAEIOU\"\n",
    "for i in word:\n",
    "    if i in vow:\n",
    "        word = word.replace(i,\"\")\n",
    "print(word)"
   ]
  },
  {
   "cell_type": "markdown",
   "metadata": {},
   "source": [
    "SOME Important methods in string"
   ]
  },
  {
   "cell_type": "code",
   "execution_count": 33,
   "metadata": {},
   "outputs": [
    {
     "name": "stdout",
     "output_type": "stream",
     "text": [
      "AKFDL\n"
     ]
    }
   ],
   "source": [
    "str1=\"akfdl\"\n",
    "print(str1.upper())"
   ]
  },
  {
   "cell_type": "code",
   "execution_count": 38,
   "metadata": {},
   "outputs": [
    {
     "name": "stdout",
     "output_type": "stream",
     "text": [
      "False\n",
      "True\n",
      "False\n"
     ]
    }
   ],
   "source": [
    "str1=\"uyfiw18jdjk\"\n",
    "print(str1.isdigit())\n",
    "print(str1.isalnum())\n",
    "print(str1.isalpha())"
   ]
  },
  {
   "cell_type": "markdown",
   "metadata": {},
   "source": [
    "LIST"
   ]
  },
  {
   "cell_type": "code",
   "execution_count": 40,
   "metadata": {},
   "outputs": [
    {
     "name": "stdout",
     "output_type": "stream",
     "text": [
      "1 2 3 4 abc def\n"
     ]
    }
   ],
   "source": [
    "list=[1,2,3,4,\"abc\",\"def\"]\n",
    "print(list)"
   ]
  },
  {
   "cell_type": "markdown",
   "metadata": {},
   "source": [
    "use * to seperate the outputs"
   ]
  },
  {
   "cell_type": "code",
   "execution_count": 44,
   "metadata": {},
   "outputs": [
    {
     "name": "stdout",
     "output_type": "stream",
     "text": [
      "1\n",
      "2\n",
      "3\n",
      "4\n",
      "abc\n",
      "def\n"
     ]
    }
   ],
   "source": [
    "list=[1,2,3,4,\"abc\",\"def\"]\n",
    "print(*list,sep=\"\\n\")"
   ]
  },
  {
   "cell_type": "code",
   "execution_count": 46,
   "metadata": {},
   "outputs": [
    {
     "name": "stdout",
     "output_type": "stream",
     "text": [
      "[1, 2, 4, 5, 6, 7, 8]\n"
     ]
    }
   ],
   "source": [
    "list1=[1,2,5,8,7,6,4]\n",
    "list1.sort()\n",
    "print(list1)"
   ]
  },
  {
   "cell_type": "code",
   "execution_count": null,
   "metadata": {},
   "outputs": [],
   "source": [
    "Find the median of list"
   ]
  },
  {
   "cell_type": "code",
   "execution_count": 49,
   "metadata": {},
   "outputs": [
    {
     "name": "stdout",
     "output_type": "stream",
     "text": [
      "1.5\n"
     ]
    }
   ],
   "source": [
    "list=[1,6,3,7,9,6,3,2]\n",
    "list.sort()"
   ]
  },
  {
   "cell_type": "markdown",
   "metadata": {},
   "source": [
    "updating the values  .......DICTIONARY\n"
   ]
  },
  {
   "cell_type": "code",
   "execution_count": 51,
   "metadata": {},
   "outputs": [
    {
     "name": "stdout",
     "output_type": "stream",
     "text": [
      "Before update:  {'A': 100, 'B': 200}\n",
      "After update:  {'A': 300, 'B': 200}\n"
     ]
    }
   ],
   "source": [
    "d1={'A':100 , 'B':200}\n",
    "d2={'A':300}\n",
    "print(\"Before update: \",d1)\n",
    "d1.update(d2)\n",
    "print(\"After update: \",d1)"
   ]
  },
  {
   "cell_type": "markdown",
   "metadata": {},
   "source": [
    "Write the program to insert the details of 4 students by the following key details\n",
    "1. Name: [\"ABC\",\"DEF\"]\n",
    "2. Roll: [23,45]\n",
    "3. Stream: [\"CSE\",\"ECE\"]\n",
    "4. Marks: [78,76]\n",
    "Create the dictionary by taking user input"
   ]
  },
  {
   "cell_type": "code",
   "execution_count": 59,
   "metadata": {},
   "outputs": [
    {
     "name": "stdout",
     "output_type": "stream",
     "text": [
      "{'Name': ['satyam', 'puru', 'ricky', 'tarun'], 'Roll': ['176', '298', '229', '239'], 'Stream': ['cse', 'cse', 'cse', 'cse'], 'Marks': ['85', '70', '80', '70']}\n"
     ]
    }
   ],
   "source": [
    "dict={\"Name\":[],\"Roll\":[],\"Stream\":[],\"Marks\":[]}\n",
    "for i in range(4):\n",
    "    dict.get(\"Name\").append(input(\"Name: \"))\n",
    "    dict.get(\"Roll\").append(input(\"Roll: \"))\n",
    "    dict.get(\"Stream\").append(input(\"Stream: \"))\n",
    "    dict.get(\"Marks\").append(input(\"Marks: \"))\n",
    "print(dict)"
   ]
  },
  {
   "cell_type": "markdown",
   "metadata": {},
   "source": [
    "ARRAY"
   ]
  },
  {
   "cell_type": "code",
   "execution_count": 64,
   "metadata": {},
   "outputs": [
    {
     "name": "stdout",
     "output_type": "stream",
     "text": [
      "List:  [1, 2, 3, 4, 5, 6]\n",
      "Array  [1 2 3 4 5 6]\n"
     ]
    }
   ],
   "source": [
    "import numpy as np\n",
    "\n",
    "list=[1,2,3,4,5,6]\n",
    "print(\"List: \",list)\n",
    "array=np.array(list)\n",
    "print(\"Array \",array)"
   ]
  },
  {
   "cell_type": "code",
   "execution_count": null,
   "metadata": {},
   "outputs": [],
   "source": []
  }
 ],
 "metadata": {
  "interpreter": {
   "hash": "c43cc35bf10d47ee272d24c9e8f3a3c68ece12bba4bc202b3d531e99134b684d"
  },
  "kernelspec": {
   "display_name": "Python 3.10.0 64-bit",
   "language": "python",
   "name": "python3"
  },
  "language_info": {
   "codemirror_mode": {
    "name": "ipython",
    "version": 3
   },
   "file_extension": ".py",
   "mimetype": "text/x-python",
   "name": "python",
   "nbconvert_exporter": "python",
   "pygments_lexer": "ipython3",
   "version": "3.10.0"
  },
  "orig_nbformat": 4
 },
 "nbformat": 4,
 "nbformat_minor": 2
}
